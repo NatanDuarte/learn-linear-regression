{
 "cells": [
  {
   "cell_type": "markdown",
   "metadata": {},
   "source": [
    "# Linear Regression\n",
    "\n",
    "So I decided to learn about the main aspects of\n",
    "some of the most used machine learning models.\n",
    "\n",
    "Starting simple, the first model I wanna Learn about is\n",
    "**Linear Regression**, which is simpler compared to other models."
   ]
  },
  {
   "cell_type": "markdown",
   "metadata": {},
   "source": [
    "## What is Linear Regression?\n",
    "\n",
    "Linear regression is a statistical method used to model\n",
    "the relationship between a dependent variable and one or\n",
    "more independent variables by fitting a linear equation\n",
    "to the observed data."
   ]
  },
  {
   "cell_type": "markdown",
   "metadata": {},
   "source": [
    "## Modeling a Linear Regressor"
   ]
  },
  {
   "cell_type": "markdown",
   "metadata": {},
   "source": [
    "First things first. Lets import some libraries we'll gonna use.\n",
    "We also need data in order to train a data-based model."
   ]
  },
  {
   "cell_type": "markdown",
   "metadata": {},
   "source": [
    "### Obtaining data\n",
    "\n",
    "For data, I wasn't able to choose any database, so I decided to\n",
    "just generate some **synthetic data**, as this is just a learning\n",
    "purpose experiment. Also *Synthetic Data Generation* is a area\n",
    "that has catch my attention recently, so I'll probably write more\n",
    "about any soon.\n",
    "\n",
    "So, the cells bellow are able are responsible for generating a dataset\n",
    "which can be modeled by a linear regressor. We have a class with some\n",
    "useful parameters like how many columns we want in the dataset, for example,\n",
    "in case you want to generate a dataset for multiple linear regression."
   ]
  },
  {
   "cell_type": "code",
   "execution_count": 2,
   "metadata": {},
   "outputs": [],
   "source": [
    "import pandas as pd\n",
    "import numpy as np\n",
    "\n",
    "import matplotlib.pyplot as plt"
   ]
  },
  {
   "cell_type": "code",
   "execution_count": 5,
   "metadata": {},
   "outputs": [],
   "source": [
    "from sklearn.datasets import make_regression\n",
    "\n",
    "class SyntheticDataGenerator:\n",
    "    def __init__(self, n_samples=100, n_features=1, noise=0.0, random_state=None):\n",
    "        self.n_samples = n_samples\n",
    "        self.n_features = n_features\n",
    "        self.noise = noise\n",
    "        self.random_state = random_state\n",
    "        self.X = None\n",
    "        self.y = None\n",
    "\n",
    "    def generate_data(self):\n",
    "        self.X, self.y = make_regression(\n",
    "            n_samples=self.n_samples,\n",
    "            n_features=self.n_features,\n",
    "            noise=self.noise,\n",
    "            random_state=self.random_state\n",
    "        )\n",
    "\n",
    "    def save_data_to_file(self, file_path, append=False):\n",
    "        data = pd.DataFrame(\n",
    "            np.hstack((self.X, self.y.reshape(-1, 1))), \n",
    "            columns=[f\"X{i}\" for i in range(self.n_features)] + ['y']\n",
    "        )\n",
    "        mode = 'a' if append else 'w'\n",
    "        header = append is False\n",
    "        data.to_csv(file_path, mode=mode, header=header, index=False)\n"
   ]
  },
  {
   "cell_type": "markdown",
   "metadata": {},
   "source": [
    "I organized the generation parameters so We can easily modify if needed.\n",
    "\n",
    "⚠️ Note here that the dataset directory already exists."
   ]
  },
  {
   "cell_type": "code",
   "execution_count": 10,
   "metadata": {},
   "outputs": [],
   "source": [
    "dataset1_parameters = {\n",
    "    'n_samples': 10000,\n",
    "    'n_features': 1,\n",
    "    'noise': 21,\n",
    "    'file_path': 'datasets/synthetic_data_1.csv',\n",
    "}"
   ]
  },
  {
   "cell_type": "code",
   "execution_count": 11,
   "metadata": {},
   "outputs": [],
   "source": [
    "data_generator = SyntheticDataGenerator(\n",
    "    n_samples=dataset1_parameters['n_samples'], \n",
    "    n_features=dataset1_parameters['n_features'],\n",
    "    noise=dataset1_parameters['noise'])\n",
    "\n",
    "data_generator.generate_data()\n",
    "\n",
    "## This line writes the data to a file.\n",
    "## Leave it commented so you don't overwrite your data accidentally\n",
    "## by running \"run all cells\"\n",
    "\n",
    "# data_generator.save_data_to_file(dataset1_parameters['file_path'])"
   ]
  },
  {
   "cell_type": "markdown",
   "metadata": {},
   "source": [
    "Now we can view some random samples from this synthetic dataset:"
   ]
  },
  {
   "cell_type": "code",
   "execution_count": 12,
   "metadata": {},
   "outputs": [
    {
     "data": {
      "text/html": [
       "<div>\n",
       "<style scoped>\n",
       "    .dataframe tbody tr th:only-of-type {\n",
       "        vertical-align: middle;\n",
       "    }\n",
       "\n",
       "    .dataframe tbody tr th {\n",
       "        vertical-align: top;\n",
       "    }\n",
       "\n",
       "    .dataframe thead th {\n",
       "        text-align: right;\n",
       "    }\n",
       "</style>\n",
       "<table border=\"1\" class=\"dataframe\">\n",
       "  <thead>\n",
       "    <tr style=\"text-align: right;\">\n",
       "      <th></th>\n",
       "      <th>X0</th>\n",
       "      <th>y</th>\n",
       "    </tr>\n",
       "  </thead>\n",
       "  <tbody>\n",
       "    <tr>\n",
       "      <th>6661</th>\n",
       "      <td>-1.452403</td>\n",
       "      <td>-23.941110</td>\n",
       "    </tr>\n",
       "    <tr>\n",
       "      <th>8230</th>\n",
       "      <td>-0.259056</td>\n",
       "      <td>2.545560</td>\n",
       "    </tr>\n",
       "    <tr>\n",
       "      <th>8494</th>\n",
       "      <td>-0.953766</td>\n",
       "      <td>-11.375511</td>\n",
       "    </tr>\n",
       "    <tr>\n",
       "      <th>1110</th>\n",
       "      <td>-1.045699</td>\n",
       "      <td>-55.604432</td>\n",
       "    </tr>\n",
       "    <tr>\n",
       "      <th>4056</th>\n",
       "      <td>1.341622</td>\n",
       "      <td>82.445879</td>\n",
       "    </tr>\n",
       "  </tbody>\n",
       "</table>\n",
       "</div>"
      ],
      "text/plain": [
       "            X0          y\n",
       "6661 -1.452403 -23.941110\n",
       "8230 -0.259056   2.545560\n",
       "8494 -0.953766 -11.375511\n",
       "1110 -1.045699 -55.604432\n",
       "4056  1.341622  82.445879"
      ]
     },
     "execution_count": 12,
     "metadata": {},
     "output_type": "execute_result"
    }
   ],
   "source": [
    "df = pd.read_csv(dataset1_parameters['file_path'])\n",
    "\n",
    "df.sample(5)"
   ]
  },
  {
   "cell_type": "markdown",
   "metadata": {},
   "source": [
    "Excellent. For now we can focus on discussing how linear regression work."
   ]
  },
  {
   "cell_type": "markdown",
   "metadata": {},
   "source": [
    "## Training your first linear regressor"
   ]
  },
  {
   "cell_type": "code",
   "execution_count": null,
   "metadata": {},
   "outputs": [],
   "source": []
  },
  {
   "cell_type": "markdown",
   "metadata": {},
   "source": [
    "# References\n",
    "\n",
    "* [scribbr: Simple Linear Regression | An Easy Introduction & Examples](https://www.scribbr.com/statistics/simple-linear-regression/)\n",
    "\n",
    "* [scribbr: Multiple Linear Regression | A Quick Guide (Examples)](https://www.scribbr.com/statistics/multiple-linear-regression/)\n",
    "\n"
   ]
  }
 ],
 "metadata": {
  "kernelspec": {
   "display_name": "venv",
   "language": "python",
   "name": "python3"
  },
  "language_info": {
   "codemirror_mode": {
    "name": "ipython",
    "version": 3
   },
   "file_extension": ".py",
   "mimetype": "text/x-python",
   "name": "python",
   "nbconvert_exporter": "python",
   "pygments_lexer": "ipython3",
   "version": "3.12.2"
  }
 },
 "nbformat": 4,
 "nbformat_minor": 2
}
